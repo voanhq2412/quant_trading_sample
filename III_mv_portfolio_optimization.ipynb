{
 "cells": [
  {
   "cell_type": "code",
   "execution_count": 1,
   "id": "5c678fd4-241f-4895-9429-5c785c5c92e3",
   "metadata": {},
   "outputs": [],
   "source": [
    "import warnings\n",
    "warnings.filterwarnings(\"ignore\")\n",
    "import pandas as pd\n",
    "import numpy as np\n",
    "import glob\n",
    "import cvxpy as cp\n",
    "from sklearn.metrics import mean_squared_error as mse\n",
    "import datetime\n",
    "import scipy\n",
    "import gc\n",
    "import matplotlib.pyplot as plt\n",
    "from scipy import stats\n",
    "\n",
    "from app.historical_price import HistoricalPrice\n",
    "from app.random_variable import RandomVariable"
   ]
  },
  {
   "cell_type": "code",
   "execution_count": 2,
   "id": "e06cd7ad-0590-4b7a-9b0a-2e1f0ff7be46",
   "metadata": {},
   "outputs": [],
   "source": [
    "hp = HistoricalPrice()\n",
    "daily_returns = hp.get_all_returns(freq='daily')\n",
    "# weekly_returns = hp.get_all_r|eturns(freq='weekly').filter(items=daily_returns.columns,axis=1)\n",
    "# weekly_returns.shape,daily_returns.shape"
   ]
  },
  {
   "cell_type": "code",
   "execution_count": 3,
   "id": "3fe88d47-d635-4081-acb5-a572a31dc6d5",
   "metadata": {},
   "outputs": [
    {
     "ename": "KeyError",
     "evalue": "'sector'",
     "output_type": "error",
     "traceback": [
      "\u001b[0;31m---------------------------------------------------------------------------\u001b[0m",
      "\u001b[0;31mKeyError\u001b[0m                                  Traceback (most recent call last)",
      "File \u001b[0;32m~/.virtualenvs/hesman_venv/lib/python3.8/site-packages/pandas/core/indexes/base.py:3802\u001b[0m, in \u001b[0;36mIndex.get_loc\u001b[0;34m(self, key, method, tolerance)\u001b[0m\n\u001b[1;32m   3801\u001b[0m \u001b[38;5;28;01mtry\u001b[39;00m:\n\u001b[0;32m-> 3802\u001b[0m     \u001b[38;5;28;01mreturn\u001b[39;00m \u001b[38;5;28;43mself\u001b[39;49m\u001b[38;5;241;43m.\u001b[39;49m\u001b[43m_engine\u001b[49m\u001b[38;5;241;43m.\u001b[39;49m\u001b[43mget_loc\u001b[49m\u001b[43m(\u001b[49m\u001b[43mcasted_key\u001b[49m\u001b[43m)\u001b[49m\n\u001b[1;32m   3803\u001b[0m \u001b[38;5;28;01mexcept\u001b[39;00m \u001b[38;5;167;01mKeyError\u001b[39;00m \u001b[38;5;28;01mas\u001b[39;00m err:\n",
      "File \u001b[0;32m~/.virtualenvs/hesman_venv/lib/python3.8/site-packages/pandas/_libs/index.pyx:138\u001b[0m, in \u001b[0;36mpandas._libs.index.IndexEngine.get_loc\u001b[0;34m()\u001b[0m\n",
      "File \u001b[0;32m~/.virtualenvs/hesman_venv/lib/python3.8/site-packages/pandas/_libs/index.pyx:165\u001b[0m, in \u001b[0;36mpandas._libs.index.IndexEngine.get_loc\u001b[0;34m()\u001b[0m\n",
      "File \u001b[0;32mpandas/_libs/hashtable_class_helper.pxi:5745\u001b[0m, in \u001b[0;36mpandas._libs.hashtable.PyObjectHashTable.get_item\u001b[0;34m()\u001b[0m\n",
      "File \u001b[0;32mpandas/_libs/hashtable_class_helper.pxi:5753\u001b[0m, in \u001b[0;36mpandas._libs.hashtable.PyObjectHashTable.get_item\u001b[0;34m()\u001b[0m\n",
      "\u001b[0;31mKeyError\u001b[0m: 'sector'",
      "\nThe above exception was the direct cause of the following exception:\n",
      "\u001b[0;31mKeyError\u001b[0m                                  Traceback (most recent call last)",
      "Cell \u001b[0;32mIn [3], line 3\u001b[0m\n\u001b[1;32m      1\u001b[0m tickers \u001b[38;5;241m=\u001b[39m pd\u001b[38;5;241m.\u001b[39mread_csv(\u001b[38;5;124m'\u001b[39m\u001b[38;5;124mdata/tickers.csv\u001b[39m\u001b[38;5;124m'\u001b[39m,index_col\u001b[38;5;241m=\u001b[39m\u001b[38;5;241m0\u001b[39m)\n\u001b[0;32m----> 3\u001b[0m recession_proof \u001b[38;5;241m=\u001b[39m (\u001b[43mtickers\u001b[49m\u001b[43m[\u001b[49m\u001b[38;5;124;43m'\u001b[39;49m\u001b[38;5;124;43msector\u001b[39;49m\u001b[38;5;124;43m'\u001b[39;49m\u001b[43m]\u001b[49m\u001b[38;5;241m.\u001b[39misin([\u001b[38;5;124m'\u001b[39m\u001b[38;5;124mHealth Technology\u001b[39m\u001b[38;5;124m'\u001b[39m,\u001b[38;5;124m'\u001b[39m\u001b[38;5;124mConsumer Non-Durables\u001b[39m\u001b[38;5;124m'\u001b[39m,\u001b[38;5;124m'\u001b[39m\u001b[38;5;124mTechnology Services\u001b[39m\u001b[38;5;124m'\u001b[39m]))\n\u001b[1;32m      4\u001b[0m insurance \u001b[38;5;241m=\u001b[39m (tickers[\u001b[38;5;124m'\u001b[39m\u001b[38;5;124mindustry\u001b[39m\u001b[38;5;124m'\u001b[39m]\u001b[38;5;241m.\u001b[39mstr\u001b[38;5;241m.\u001b[39mcontains(\u001b[38;5;124m\"\u001b[39m\u001b[38;5;124mInsurance\u001b[39m\u001b[38;5;124m\"\u001b[39m))\n\u001b[1;32m      5\u001b[0m non_footwear \u001b[38;5;241m=\u001b[39m (tickers[\u001b[38;5;124m'\u001b[39m\u001b[38;5;124mindustry\u001b[39m\u001b[38;5;124m'\u001b[39m]\u001b[38;5;241m==\u001b[39m\u001b[38;5;124m\"\u001b[39m\u001b[38;5;124mApparel/Footwear\u001b[39m\u001b[38;5;124m\"\u001b[39m)\n",
      "File \u001b[0;32m~/.virtualenvs/hesman_venv/lib/python3.8/site-packages/pandas/core/frame.py:3807\u001b[0m, in \u001b[0;36mDataFrame.__getitem__\u001b[0;34m(self, key)\u001b[0m\n\u001b[1;32m   3805\u001b[0m \u001b[38;5;28;01mif\u001b[39;00m \u001b[38;5;28mself\u001b[39m\u001b[38;5;241m.\u001b[39mcolumns\u001b[38;5;241m.\u001b[39mnlevels \u001b[38;5;241m>\u001b[39m \u001b[38;5;241m1\u001b[39m:\n\u001b[1;32m   3806\u001b[0m     \u001b[38;5;28;01mreturn\u001b[39;00m \u001b[38;5;28mself\u001b[39m\u001b[38;5;241m.\u001b[39m_getitem_multilevel(key)\n\u001b[0;32m-> 3807\u001b[0m indexer \u001b[38;5;241m=\u001b[39m \u001b[38;5;28;43mself\u001b[39;49m\u001b[38;5;241;43m.\u001b[39;49m\u001b[43mcolumns\u001b[49m\u001b[38;5;241;43m.\u001b[39;49m\u001b[43mget_loc\u001b[49m\u001b[43m(\u001b[49m\u001b[43mkey\u001b[49m\u001b[43m)\u001b[49m\n\u001b[1;32m   3808\u001b[0m \u001b[38;5;28;01mif\u001b[39;00m is_integer(indexer):\n\u001b[1;32m   3809\u001b[0m     indexer \u001b[38;5;241m=\u001b[39m [indexer]\n",
      "File \u001b[0;32m~/.virtualenvs/hesman_venv/lib/python3.8/site-packages/pandas/core/indexes/base.py:3804\u001b[0m, in \u001b[0;36mIndex.get_loc\u001b[0;34m(self, key, method, tolerance)\u001b[0m\n\u001b[1;32m   3802\u001b[0m     \u001b[38;5;28;01mreturn\u001b[39;00m \u001b[38;5;28mself\u001b[39m\u001b[38;5;241m.\u001b[39m_engine\u001b[38;5;241m.\u001b[39mget_loc(casted_key)\n\u001b[1;32m   3803\u001b[0m \u001b[38;5;28;01mexcept\u001b[39;00m \u001b[38;5;167;01mKeyError\u001b[39;00m \u001b[38;5;28;01mas\u001b[39;00m err:\n\u001b[0;32m-> 3804\u001b[0m     \u001b[38;5;28;01mraise\u001b[39;00m \u001b[38;5;167;01mKeyError\u001b[39;00m(key) \u001b[38;5;28;01mfrom\u001b[39;00m \u001b[38;5;21;01merr\u001b[39;00m\n\u001b[1;32m   3805\u001b[0m \u001b[38;5;28;01mexcept\u001b[39;00m \u001b[38;5;167;01mTypeError\u001b[39;00m:\n\u001b[1;32m   3806\u001b[0m     \u001b[38;5;66;03m# If we have a listlike key, _check_indexing_error will raise\u001b[39;00m\n\u001b[1;32m   3807\u001b[0m     \u001b[38;5;66;03m#  InvalidIndexError. Otherwise we fall through and re-raise\u001b[39;00m\n\u001b[1;32m   3808\u001b[0m     \u001b[38;5;66;03m#  the TypeError.\u001b[39;00m\n\u001b[1;32m   3809\u001b[0m     \u001b[38;5;28mself\u001b[39m\u001b[38;5;241m.\u001b[39m_check_indexing_error(key)\n",
      "\u001b[0;31mKeyError\u001b[0m: 'sector'"
     ]
    }
   ],
   "source": [
    "tickers = pd.read_csv('data/tickers.csv',index_col=0)\n",
    "\n",
    "recession_proof = (tickers['sector'].isin(['Health Technology','Consumer Non-Durables','Technology Services']))\n",
    "insurance = (tickers['industry'].str.contains(\"Insurance\"))\n",
    "non_footwear = (tickers['industry']==\"Apparel/Footwear\")\n",
    "tickers = tickers.loc[recession_proof|insurance]\n",
    "tickers = tickers.loc[~non_footwear]\n",
    "\n",
    "weekly_returns = weekly_returns.filter(items=tickers['ticker'],axis=1)\n",
    "daily_returns = daily_returns.filter(items=tickers['ticker'],axis=1)\n",
    "tickers\n"
   ]
  },
  {
   "cell_type": "markdown",
   "id": "163d03d5-9098-44c7-8032-c2b308ef0a57",
   "metadata": {},
   "source": [
    "#### Filtering assets \n",
    "- Exclude if skew >= 0. This will also leave us with assets that are generally increaseing in value but have rarer and larger losses. "
   ]
  },
  {
   "cell_type": "code",
   "execution_count": 4,
   "id": "206fedd8-d2db-440e-a53f-6bf69042ad65",
   "metadata": {},
   "outputs": [],
   "source": [
    "skew = pd.DataFrame(None,columns=['median_w','stat_w','pval_w','median_d','stat_d','pval_d'])\n",
    "\n",
    "for stock in weekly_returns.columns:\n",
    "    stat,pval = stats.skewtest(weekly_returns[stock].dropna())\n",
    "    skew.loc[stock,\"stat_w\"] = stat\n",
    "    skew.loc[stock,\"pval_w\"] = pval\n",
    "    skew.loc[stock,'median_w'] = weekly_returns[stock].dropna().median()\n",
    "    \n",
    "    stat,pval = stats.skewtest(daily_returns[stock].dropna())\n",
    "    skew.loc[stock,\"stat_d\"] = stat\n",
    "    skew.loc[stock,\"pval_d\"] = pval\n",
    "    skew.loc[stock,'median_d'] = daily_returns[stock].dropna().median()\n",
    "    \n",
    "#### Negative skewness statistic means that the prob distribution is negatively skewed \n",
    "#### meaning that the left tail is longer but the mass of the distribution is concentrated\n",
    "#### on the right. Thus we can exclude postive skew assets to reduce the asset universe.\n",
    "skew = skew.sort_values(by=['stat_w','stat_d'],ascending=False)"
   ]
  },
  {
   "cell_type": "code",
   "execution_count": 5,
   "id": "c13969d4-c8b2-4442-a811-bd8e9db624b8",
   "metadata": {},
   "outputs": [
    {
     "data": {
      "image/png": "[encoded data removed]",
      "text/plain": [
       "<Figure size 640x480 with 1 Axes>"
      ]
     },
     "metadata": {},
     "output_type": "display_data"
    }
   ],
   "source": [
    "s = 'MSN'\n",
    "plt.hist(weekly_returns[s].values, bins='auto', alpha=0.5, label='weekly')\n",
    "plt.hist(daily_returns[s].values, bins='auto', alpha=0.5, label='daily')\n",
    "plt.legend(loc='upper right')\n",
    "plt.gca().set_ylim([0,200])\n",
    "plt.show()"
   ]
  },
  {
   "cell_type": "code",
   "execution_count": 6,
   "id": "8a5b2b43-1654-4f8c-9d62-cf02d4d5c9ee",
   "metadata": {},
   "outputs": [
    {
     "data": {
      "text/html": [
       "<div>\n",
       "<style scoped>\n",
       "    .dataframe tbody tr th:only-of-type {\n",
       "        vertical-align: middle;\n",
       "    }\n",
       "\n",
       "    .dataframe tbody tr th {\n",
       "        vertical-align: top;\n",
       "    }\n",
       "\n",
       "    .dataframe thead th {\n",
       "        text-align: right;\n",
       "    }\n",
       "</style>\n",
       "<table border=\"1\" class=\"dataframe\">\n",
       "  <thead>\n",
       "    <tr style=\"text-align: right;\">\n",
       "      <th></th>\n",
       "      <th>median_w</th>\n",
       "      <th>stat_w</th>\n",
       "      <th>pval_w</th>\n",
       "      <th>median_d</th>\n",
       "      <th>stat_d</th>\n",
       "      <th>pval_d</th>\n",
       "    </tr>\n",
       "  </thead>\n",
       "  <tbody>\n",
       "    <tr>\n",
       "      <th>MIG</th>\n",
       "      <td>0.0</td>\n",
       "      <td>-2.512847</td>\n",
       "      <td>0.011976</td>\n",
       "      <td>0.0</td>\n",
       "      <td>0.020716</td>\n",
       "      <td>0.983473</td>\n",
       "    </tr>\n",
       "  </tbody>\n",
       "</table>\n",
       "</div>"
      ],
      "text/plain": [
       "    median_w    stat_w    pval_w median_d    stat_d    pval_d\n",
       "MIG      0.0 -2.512847  0.011976      0.0  0.020716  0.983473"
      ]
     },
     "execution_count": 6,
     "metadata": {},
     "output_type": "execute_result"
    }
   ],
   "source": [
    "### stocks that are neg-skewed weekly but positively-skewed daily ...\n",
    "### over the daily horizon it may seems like they're decreasing, \n",
    "### but actually they're increasing on a weekly basis\n",
    "\n",
    "### it means that over the course of one week, the number of daily negative returns\n",
    "### will be more, but there will be 1 or 2 days where the positive returns will be large\n",
    "### enough to offset the negative returns such that the weekly return is positive \n",
    "skew[(skew['stat_w']<0)&(skew['stat_d']>0)].tail()"
   ]
  },
  {
   "cell_type": "code",
   "execution_count": 7,
   "id": "c8604e45-eeb9-4a34-9b6f-14ae22eeb5a4",
   "metadata": {},
   "outputs": [
    {
     "data": {
      "text/html": [
       "<div>\n",
       "<style scoped>\n",
       "    .dataframe tbody tr th:only-of-type {\n",
       "        vertical-align: middle;\n",
       "    }\n",
       "\n",
       "    .dataframe tbody tr th {\n",
       "        vertical-align: top;\n",
       "    }\n",
       "\n",
       "    .dataframe thead th {\n",
       "        text-align: right;\n",
       "    }\n",
       "</style>\n",
       "<table border=\"1\" class=\"dataframe\">\n",
       "  <thead>\n",
       "    <tr style=\"text-align: right;\">\n",
       "      <th></th>\n",
       "      <th>median_w</th>\n",
       "      <th>stat_w</th>\n",
       "      <th>pval_w</th>\n",
       "      <th>median_d</th>\n",
       "      <th>stat_d</th>\n",
       "      <th>pval_d</th>\n",
       "    </tr>\n",
       "  </thead>\n",
       "  <tbody>\n",
       "    <tr>\n",
       "      <th>SCD</th>\n",
       "      <td>0.0</td>\n",
       "      <td>6.980696</td>\n",
       "      <td>0.0</td>\n",
       "      <td>0.0</td>\n",
       "      <td>-1.272323</td>\n",
       "      <td>0.203258</td>\n",
       "    </tr>\n",
       "    <tr>\n",
       "      <th>CMG</th>\n",
       "      <td>0.0</td>\n",
       "      <td>5.226597</td>\n",
       "      <td>0.0</td>\n",
       "      <td>0.0</td>\n",
       "      <td>-1.251521</td>\n",
       "      <td>0.210745</td>\n",
       "    </tr>\n",
       "    <tr>\n",
       "      <th>BMI</th>\n",
       "      <td>0.0</td>\n",
       "      <td>4.312436</td>\n",
       "      <td>0.000016</td>\n",
       "      <td>0.0</td>\n",
       "      <td>-4.213372</td>\n",
       "      <td>0.000025</td>\n",
       "    </tr>\n",
       "    <tr>\n",
       "      <th>ELC</th>\n",
       "      <td>-0.003276</td>\n",
       "      <td>2.763768</td>\n",
       "      <td>0.005714</td>\n",
       "      <td>0.0</td>\n",
       "      <td>-0.702063</td>\n",
       "      <td>0.48264</td>\n",
       "    </tr>\n",
       "    <tr>\n",
       "      <th>DBT</th>\n",
       "      <td>0.0</td>\n",
       "      <td>2.411354</td>\n",
       "      <td>0.015893</td>\n",
       "      <td>0.0</td>\n",
       "      <td>-27.13761</td>\n",
       "      <td>0.0</td>\n",
       "    </tr>\n",
       "  </tbody>\n",
       "</table>\n",
       "</div>"
      ],
      "text/plain": [
       "     median_w    stat_w    pval_w median_d    stat_d    pval_d\n",
       "SCD       0.0  6.980696       0.0      0.0 -1.272323  0.203258\n",
       "CMG       0.0  5.226597       0.0      0.0 -1.251521  0.210745\n",
       "BMI       0.0  4.312436  0.000016      0.0 -4.213372  0.000025\n",
       "ELC -0.003276  2.763768  0.005714      0.0 -0.702063   0.48264\n",
       "DBT       0.0  2.411354  0.015893      0.0 -27.13761       0.0"
      ]
     },
     "execution_count": 7,
     "metadata": {},
     "output_type": "execute_result"
    }
   ],
   "source": [
    "### On the other hand assets with positively weekly skew and negative daily skew\n",
    "### means that there are more days where they are increasing within the week\n",
    "### but there will be 1 or 2 days where the where the returns will be negative enough \n",
    "### to offset the increasing days\n",
    "skew[(skew['stat_w']>0)&(skew['stat_d']<0)].head()"
   ]
  },
  {
   "cell_type": "code",
   "execution_count": 17,
   "id": "76308473-5c0d-4130-8b78-cdf4902e5895",
   "metadata": {},
   "outputs": [
    {
     "name": "stdout",
     "output_type": "stream",
     "text": [
      "(5402, 14)\n"
     ]
    }
   ],
   "source": [
    "posskewed_assets = skew.loc[skew['stat_w']>=0].index\n",
    "returns = daily_returns.drop(columns = posskewed_assets)\n",
    "print(returns.shape)\n",
    "\n",
    "### Skewness based on frequency \n",
    "######## TOTAL 392 assets\n",
    "## Daily: 264 assets are neg-skewed (max periods 4240) \n",
    "## Weekly: 155 assets are neg-skewed (max periods 1193) \n",
    "## Fortnightly: 94 assets are neg-skewed (max periods 602) \n",
    "## Monthly: 63 assets are neg-skewed (max periods 277) \n",
    "######## REDUCE asset universe via weekly skewness, \n",
    "######## but perform portfolio optimization via daily returns"
   ]
  },
  {
   "cell_type": "code",
   "execution_count": 18,
   "id": "6a000159-7441-4b96-9f46-55e828a72201",
   "metadata": {},
   "outputs": [
    {
     "name": "stdout",
     "output_type": "stream",
     "text": [
      "ABT 0.0\n",
      "ANV 0.0\n",
      "ASM 0.0\n",
      "DBD 0.0\n",
      "DHG 0.0\n",
      "FPT 0.0\n",
      "KDC 0.0\n",
      "LIX 0.0\n",
      "MIG 0.0\n",
      "MSN 0.0\n",
      "OPC 0.0\n",
      "TRA 0.0\n",
      "VHC 0.0\n",
      "VNM 0.0\n"
     ]
    }
   ],
   "source": [
    "for s in returns.columns:\n",
    "    print(s,np.quantile(returns[s].dropna(),0.5))"
   ]
  },
  {
   "cell_type": "markdown",
   "id": "a9772f6c-53b5-424e-9868-19dcec965f32",
   "metadata": {},
   "source": [
    "### Mean-Variance Optimization"
   ]
  },
  {
   "cell_type": "code",
   "execution_count": 11,
   "id": "3d73126b-9058-4f61-ae15-89d4085aebb7",
   "metadata": {},
   "outputs": [
    {
     "data": {
      "text/plain": [
       "(0.0004666385790395737, 0.0008342758871817934, 0.010628263124241368)"
      ]
     },
     "execution_count": 11,
     "metadata": {},
     "output_type": "execute_result"
    }
   ],
   "source": [
    "## Risk-free rate as bank saving rate (assume 6% pa)\n",
    "rf_rate = (1+0.06)**(1/365)-1\n",
    "\n",
    "\n",
    "# average returns\n",
    "mu = returns.mean().values\n",
    "\n",
    "## covariance \n",
    "cov = returns.cov().values\n",
    "\n",
    "# variable to optimize over - portfolio weights\n",
    "w = cp.Variable(len(mu))\n",
    "\n",
    "######## objectives to optimize\n",
    "# portfolio return\n",
    "R = mu.T @ w \n",
    "\n",
    "prob = cp.Problem(cp.Maximize(R),   ## Maximize return \n",
    "                  [   \n",
    "                   cp.sum(w) == 1,   # sum of weights = 1\n",
    "                   w >= 0,          # weights > 0 (long-only)\n",
    "                  ]      \n",
    "                 )\n",
    "prob.solve()\n",
    "portfolio_weights = prob.variables()[0].value\n",
    "portfolio_return = portfolio_weights.dot(mu)\n",
    "portfolio_volatility = portfolio_weights.T.dot(cov).dot(portfolio_weights)\n",
    "\n",
    "sharpe = (portfolio_return-rf_rate)/np.sqrt(portfolio_volatility)\n",
    "portfolio_return, portfolio_volatility, sharpe"
   ]
  },
  {
   "cell_type": "code",
   "execution_count": 156,
   "id": "833ab07a-ef22-4c05-9059-d5ca1b03fdf8",
   "metadata": {},
   "outputs": [
    {
     "data": {
      "text/html": [
       "<div>\n",
       "<style scoped>\n",
       "    .dataframe tbody tr th:only-of-type {\n",
       "        vertical-align: middle;\n",
       "    }\n",
       "\n",
       "    .dataframe tbody tr th {\n",
       "        vertical-align: top;\n",
       "    }\n",
       "\n",
       "    .dataframe thead th {\n",
       "        text-align: right;\n",
       "    }\n",
       "</style>\n",
       "<table border=\"1\" class=\"dataframe\">\n",
       "  <thead>\n",
       "    <tr style=\"text-align: right;\">\n",
       "      <th></th>\n",
       "      <th>r</th>\n",
       "      <th>return</th>\n",
       "      <th>volatility</th>\n",
       "      <th>sharpe</th>\n",
       "    </tr>\n",
       "  </thead>\n",
       "  <tbody>\n",
       "    <tr>\n",
       "      <th>25</th>\n",
       "      <td>0.00025</td>\n",
       "      <td>0.000250</td>\n",
       "      <td>0.000125</td>\n",
       "      <td>0.008076</td>\n",
       "    </tr>\n",
       "    <tr>\n",
       "      <th>24</th>\n",
       "      <td>0.00024</td>\n",
       "      <td>0.000240</td>\n",
       "      <td>0.000102</td>\n",
       "      <td>0.007945</td>\n",
       "    </tr>\n",
       "    <tr>\n",
       "      <th>23</th>\n",
       "      <td>0.00023</td>\n",
       "      <td>0.000230</td>\n",
       "      <td>0.000099</td>\n",
       "      <td>0.007079</td>\n",
       "    </tr>\n",
       "    <tr>\n",
       "      <th>22</th>\n",
       "      <td>0.00022</td>\n",
       "      <td>0.000220</td>\n",
       "      <td>0.000097</td>\n",
       "      <td>0.006123</td>\n",
       "    </tr>\n",
       "    <tr>\n",
       "      <th>21</th>\n",
       "      <td>0.00021</td>\n",
       "      <td>0.000210</td>\n",
       "      <td>0.000097</td>\n",
       "      <td>0.005135</td>\n",
       "    </tr>\n",
       "    <tr>\n",
       "      <th>18</th>\n",
       "      <td>0.00018</td>\n",
       "      <td>0.000209</td>\n",
       "      <td>0.000097</td>\n",
       "      <td>0.005067</td>\n",
       "    </tr>\n",
       "    <tr>\n",
       "      <th>19</th>\n",
       "      <td>0.00019</td>\n",
       "      <td>0.000209</td>\n",
       "      <td>0.000097</td>\n",
       "      <td>0.005059</td>\n",
       "    </tr>\n",
       "    <tr>\n",
       "      <th>17</th>\n",
       "      <td>0.00017</td>\n",
       "      <td>0.000209</td>\n",
       "      <td>0.000097</td>\n",
       "      <td>0.005058</td>\n",
       "    </tr>\n",
       "    <tr>\n",
       "      <th>0</th>\n",
       "      <td>0.00000</td>\n",
       "      <td>0.000209</td>\n",
       "      <td>0.000097</td>\n",
       "      <td>0.005051</td>\n",
       "    </tr>\n",
       "    <tr>\n",
       "      <th>1</th>\n",
       "      <td>0.00001</td>\n",
       "      <td>0.000209</td>\n",
       "      <td>0.000097</td>\n",
       "      <td>0.005043</td>\n",
       "    </tr>\n",
       "  </tbody>\n",
       "</table>\n",
       "</div>"
      ],
      "text/plain": [
       "          r    return  volatility    sharpe\n",
       "25  0.00025  0.000250    0.000125  0.008076\n",
       "24  0.00024  0.000240    0.000102  0.007945\n",
       "23  0.00023  0.000230    0.000099  0.007079\n",
       "22  0.00022  0.000220    0.000097  0.006123\n",
       "21  0.00021  0.000210    0.000097  0.005135\n",
       "18  0.00018  0.000209    0.000097  0.005067\n",
       "19  0.00019  0.000209    0.000097  0.005059\n",
       "17  0.00017  0.000209    0.000097  0.005058\n",
       "0   0.00000  0.000209    0.000097  0.005051\n",
       "1   0.00001  0.000209    0.000097  0.005043"
      ]
     },
     "execution_count": 156,
     "metadata": {},
     "output_type": "execute_result"
    }
   ],
   "source": [
    "#### No need to invest in everything\n",
    "#### Investing in 10 stocks is diversified enough\n",
    "\n",
    "#### Also the covariance matrix is not positive-definite,\n",
    "#### and so the optimization problem is non-convex.\n",
    "#### Constraining the number of stocks takes care of this problem.\n",
    "\n",
    "results = pd.DataFrame(None,columns=['r','return','volatility'])\n",
    "weights_memory = {}\n",
    "\n",
    "n = returns.shape[1]\n",
    "## 364C10 is very large number of possible combinations, \n",
    "## need to reduce asset universe via FUNDAMENTALS\n",
    "\n",
    "for r in np.arange(0,0.001,0.00001):\n",
    "    #### THE Covariance matrix is not positive-definite\n",
    "    #### the optimization problem is not a convex one.\n",
    "\n",
    "    temp_returns = returns.sample(n,axis=1)\n",
    "    assets = \"_\".join(temp_returns.sort_index(axis=1).columns)\n",
    "    temp_cov = temp_returns.cov().values\n",
    "\n",
    "    # average returns\n",
    "    mu = temp_returns.mean().values\n",
    "\n",
    "    # variable to optimize over - portfolio weights\n",
    "    w = cp.Variable(n)\n",
    "\n",
    "    ######## objectives to optimize\n",
    "    # portfolio return\n",
    "    R = mu.T @ w \n",
    "    Var = cp.quad_form(w, temp_cov)\n",
    "    \n",
    "    try:\n",
    "        prob = cp.Problem(cp.Minimize(Var),   ## minimize volatility\n",
    "                          [\n",
    "                           R >= r,\n",
    "                           cp.sum(w) == 1,   # sum of weights = 1\n",
    "                           w >= 0.05,            # weights > 0 (long-only)\n",
    "                           w <= 0.4          ## no equity can take up more than 30%, avoid over-concentration\n",
    "                          ]      \n",
    "                         )\n",
    "        prob.solve(solver='CVXOPT')\n",
    "        portfolio_weights = prob.variables()[0].value\n",
    "        portfolio_return = portfolio_weights.dot(mu)\n",
    "        portfolio_volatility = portfolio_weights.T.dot(temp_cov).dot(portfolio_weights)\n",
    "        results.loc[len(results)]= [r,portfolio_return,portfolio_volatility]\n",
    "        weights_memory[np.around(r,5)] = portfolio_weights\n",
    "    except Exception as e:\n",
    "        # print(e)\n",
    "        continue\n",
    "\n",
    "#### CALCULATING SHARPE RATIO\n",
    "results['sharpe'] = (results['return']-rf_rate) / np.sqrt(results['volatility'])\n",
    "results =results.sort_values(by=['sharpe'],ascending=False)\n",
    "results.head(10)"
   ]
  },
  {
   "cell_type": "code",
   "execution_count": 157,
   "id": "5f24805d-620d-4de3-9d43-ae88af6e48ff",
   "metadata": {},
   "outputs": [
    {
     "data": {
      "text/plain": [
       "array([0.18067595, 0.05000008, 0.0500001 , 0.05000009, 0.21932218,\n",
       "       0.05000021, 0.05000022, 0.05000037, 0.05000005, 0.05000027,\n",
       "       0.05000006, 0.05000007, 0.05000005, 0.0500003 ])"
      ]
     },
     "execution_count": 157,
     "metadata": {},
     "output_type": "execute_result"
    }
   ],
   "source": [
    "weights_memory[0.00025]"
   ]
  },
  {
   "cell_type": "code",
   "execution_count": 158,
   "id": "b38bd681-cde6-4481-806e-dc1e3a7f5aac",
   "metadata": {},
   "outputs": [
    {
     "data": {
      "text/plain": [
       "(0.00020911294006738845,\n",
       " 0.0008188473260155489,\n",
       " 0.012137556764210567,\n",
       " 0.014025799264138772)"
      ]
     },
     "execution_count": 158,
     "metadata": {},
     "output_type": "execute_result"
    }
   ],
   "source": [
    "#### Mean, CVaR on actual returns \n",
    "alpha = 0.1\n",
    "\n",
    "loss = returns.dot(weights_memory[0.00025]).dropna()\n",
    "VaR = -np.quantile(loss,alpha)\n",
    "mean = np.mean(loss)\n",
    "median = np.median(loss)\n",
    "CVaR = loss[loss > VaR].sum()*(1/(len(loss)*(1-alpha))) + VaR\n",
    "mean,median,VaR,CVaR"
   ]
  },
  {
   "cell_type": "code",
   "execution_count": 38,
   "id": "70c58331-3079-4ba6-a41c-837cc2c1a44e",
   "metadata": {},
   "outputs": [
    {
     "data": {
      "image/png": "[encoded data removed]",
      "text/plain": [
       "<Figure size 640x480 with 1 Axes>"
      ]
     },
     "metadata": {},
     "output_type": "display_data"
    }
   ],
   "source": [
    "import matplotlib.pyplot as plt\n",
    "plt.scatter(results['return'], results['volatility'])\n",
    "plt.show()"
   ]
  },
  {
   "cell_type": "markdown",
   "id": "ec73f589-992d-4983-8635-5ad80b46ea1d",
   "metadata": {},
   "source": [
    "## CVaR optimization "
   ]
  },
  {
   "cell_type": "markdown",
   "id": "17992025-daca-41d9-a6f7-7cec2f0b4753",
   "metadata": {},
   "source": [
    "1) Obtain VaR from each asset based on Monte Carlo Simulation from the fitted parametric Generalized Hyperbolic Distribution. \n",
    "2) We can then initialize the portfolio weights as uniform across all assets. Then we can calculate the loss distribution based the Monte Carlo distribution obtained from step 1. (However we're assuming that the assets are uncorrelated, they are not)  "
   ]
  },
  {
   "cell_type": "code",
   "execution_count": 39,
   "id": "b5b27eba-e5be-43eb-90e5-04c6cdf9702d",
   "metadata": {},
   "outputs": [],
   "source": [
    "# from copulas.multivariate import VineCopula\n",
    "import pyvinecopulib as pv\n",
    "import seaborn as sns\n",
    "from scipy.stats import nct, laplace_asymmetric ,genhyperbolic, laplace , t, gennorm"
   ]
  },
  {
   "cell_type": "code",
   "execution_count": 45,
   "id": "96b16b4a-70bc-4c18-b80c-3120cfe83f48",
   "metadata": {},
   "outputs": [
    {
     "name": "stdout",
     "output_type": "stream",
     "text": [
      "Index(['LIX', 'DBD', 'MIG', 'FPT', 'MSN', 'VNM', 'DHG', 'TRA', 'ABT', 'ASM',\n",
      "       'VHC', 'OPC', 'ANV', 'KDC'],\n",
      "      dtype='object')\n",
      "[(3413,), (1670,), (1597,), (4141,), (3438,), (4366,), (4137,), (3669,), (4124,), (3388,), (3889,), (3687,), (3900,), (4386,)]\n"
     ]
    },
    {
     "data": {
      "text/plain": [
       "<seaborn.axisgrid.JointGrid at 0x7f25014aa730>"
      ]
     },
     "execution_count": 45,
     "metadata": {},
     "output_type": "execute_result"
    },
    {
     "data": {
      "image/png": "[encoded data removed]",
      "text/plain": [
       "<Figure size 600x600 with 3 Axes>"
      ]
     },
     "metadata": {},
     "output_type": "display_data"
    }
   ],
   "source": [
    "n= returns.shape[1]\n",
    "\n",
    "X = returns.sample(n,axis=1)#.dropna()\n",
    "variables = [RandomVariable(X.loc[:,i].dropna(),laplace_asymmetric) for i in X.columns]\n",
    "uniform = [var.unif() for var in variables]\n",
    "\n",
    "print(X.columns)\n",
    "print([u.shape for u in uniform])\n",
    "sns.jointplot(x=X.values[:,0],y=X.values[:,1])"
   ]
  },
  {
   "cell_type": "code",
   "execution_count": 46,
   "id": "abbbcbfd-f210-4257-933c-de2f77911faf",
   "metadata": {},
   "outputs": [
    {
     "name": "stdout",
     "output_type": "stream",
     "text": [
      "1583.7443854912779 -2387.2021634212347\n"
     ]
    }
   ],
   "source": [
    "data = pd.DataFrame(np.vstack((u[-1100:] for u in uniform)).T,columns=X.columns)\n",
    "cop = pv.Vinecop(data=data)\n",
    "print(cop.loglik(),cop.aic())"
   ]
  },
  {
   "cell_type": "code",
   "execution_count": 47,
   "id": "dd02881d-8c09-4286-a4a1-f6879f07c2d7",
   "metadata": {},
   "outputs": [
    {
     "name": "stdout",
     "output_type": "stream",
     "text": [
      "[]\n",
      "[]\n"
     ]
    },
    {
     "data": {
      "text/plain": [
       "(10000, 14)"
      ]
     },
     "execution_count": 47,
     "metadata": {},
     "output_type": "execute_result"
    }
   ],
   "source": [
    "sample = cop.simulate(n=10000,num_threads = 100)\n",
    "print(sample[sample>1])\n",
    "print(sample[sample<0])\n",
    "sample.shape"
   ]
  },
  {
   "cell_type": "code",
   "execution_count": 48,
   "id": "9eb9e696-f4f1-4380-9f27-86bb66a02f43",
   "metadata": {},
   "outputs": [
    {
     "name": "stdout",
     "output_type": "stream",
     "text": [
      "[]\n",
      "[]\n"
     ]
    }
   ],
   "source": [
    "for i in range(sample.shape[1]):\n",
    "    sample[:,i] = variables[i].transform(sample[:,i])\n",
    "\n",
    "print(sample[sample>1])\n",
    "print(sample[sample<-1])\n",
    "# del uniform, variables, data, cop\n",
    "# gc.collect()"
   ]
  },
  {
   "cell_type": "code",
   "execution_count": 54,
   "id": "f37af0a8-cba5-43a4-a571-85140eab07dd",
   "metadata": {},
   "outputs": [
    {
     "data": {
      "text/plain": [
       "<seaborn.axisgrid.JointGrid at 0x7f24faea5a60>"
      ]
     },
     "execution_count": 54,
     "metadata": {},
     "output_type": "execute_result"
    },
    {
     "data": {
      "image/png": "[encoded data removed]",
      "text/plain": [
       "<Figure size 600x600 with 3 Axes>"
      ]
     },
     "metadata": {},
     "output_type": "display_data"
    }
   ],
   "source": [
    "sns.jointplot(x=sample[:,0],y=sample[:,1])"
   ]
  },
  {
   "cell_type": "code",
   "execution_count": 55,
   "id": "39d132bc-d0b1-4559-8b22-50304bcaa58f",
   "metadata": {},
   "outputs": [
    {
     "data": {
      "image/png": "[encoded data removed]",
      "text/plain": [
       "<Figure size 640x480 with 1 Axes>"
      ]
     },
     "metadata": {},
     "output_type": "display_data"
    }
   ],
   "source": [
    "plt.hist(X.values[:,0], bins='auto', alpha=0.5, label='x')\n",
    "plt.hist(sample[:,0], bins='auto', alpha=0.5, label='y')\n",
    "plt.legend(loc='upper right')\n",
    "plt.show()"
   ]
  },
  {
   "cell_type": "code",
   "execution_count": 56,
   "id": "9f6dd9a7-19cf-4e26-83dd-5e1e648931c7",
   "metadata": {},
   "outputs": [],
   "source": [
    "### initialize portfolio weights\n",
    "w = np.array([1/n for i in range(n)])\n",
    "# w = w.value\n",
    "loss = sample.dot(w)"
   ]
  },
  {
   "cell_type": "code",
   "execution_count": 57,
   "id": "5d782dff-5515-475d-b2d4-03e954b4019c",
   "metadata": {},
   "outputs": [
    {
     "data": {
      "image/png": "[encoded data removed]",
      "text/plain": [
       "<Figure size 640x480 with 1 Axes>"
      ]
     },
     "metadata": {},
     "output_type": "display_data"
    }
   ],
   "source": [
    "plt.hist(loss, bins='auto')\n",
    "plt.show()"
   ]
  },
  {
   "cell_type": "code",
   "execution_count": 58,
   "id": "73244033-fcec-4d51-a447-9ba62ed6d4d7",
   "metadata": {},
   "outputs": [
    {
     "data": {
      "text/plain": [
       "0.012595335864651757"
      ]
     },
     "execution_count": 58,
     "metadata": {},
     "output_type": "execute_result"
    }
   ],
   "source": [
    "alpha = 0.1\n",
    "VaR = -np.quantile(loss,alpha)\n",
    "VaR"
   ]
  },
  {
   "cell_type": "code",
   "execution_count": 59,
   "id": "a26e00e0-93cd-471c-84fc-496da3f6ad65",
   "metadata": {},
   "outputs": [
    {
     "name": "stdout",
     "output_type": "stream",
     "text": [
      "===============================================================================\n",
      "                                     CVXPY                                     \n",
      "                                     v1.3.2                                    \n",
      "===============================================================================\n",
      "(CVXPY) Nov 27 02:31:06 AM: Your problem has 10028 variables, 6 constraints, and 0 parameters.\n",
      "(CVXPY) Nov 27 02:31:06 AM: It is compliant with the following grammars: DCP, DQCP\n",
      "(CVXPY) Nov 27 02:31:06 AM: (If you need to solve this problem multiple times, but with different data, consider using parameters.)\n",
      "(CVXPY) Nov 27 02:31:06 AM: CVXPY will first compile your problem; then, it will invoke a numerical solver to obtain a solution.\n",
      "-------------------------------------------------------------------------------\n",
      "                                  Compilation                                  \n",
      "-------------------------------------------------------------------------------\n",
      "(CVXPY) Nov 27 02:31:06 AM: Compiling problem (target solver=SCIPY).\n",
      "(CVXPY) Nov 27 02:31:06 AM: Reduction chain: Dcp2Cone -> CvxAttr2Constr -> ConeMatrixStuffing -> SCIPY\n",
      "(CVXPY) Nov 27 02:31:06 AM: Applying reduction Dcp2Cone\n",
      "(CVXPY) Nov 27 02:31:06 AM: Applying reduction CvxAttr2Constr\n",
      "(CVXPY) Nov 27 02:31:06 AM: Applying reduction ConeMatrixStuffing\n",
      "(CVXPY) Nov 27 02:31:07 AM: Applying reduction SCIPY\n",
      "(CVXPY) Nov 27 02:31:07 AM: Finished problem compilation (took 1.956e-01 seconds).\n",
      "-------------------------------------------------------------------------------\n",
      "                                Numerical solver                               \n",
      "-------------------------------------------------------------------------------\n",
      "(CVXPY) Nov 27 02:31:07 AM: Invoking solver SCIPY  to obtain a solution.\n",
      "Solver terminated with message: Optimization terminated successfully. (HiGHS Status 7: Optimal)\n",
      "-------------------------------------------------------------------------------\n",
      "                                    Summary                                    \n",
      "-------------------------------------------------------------------------------\n",
      "(CVXPY) Nov 27 02:31:13 AM: Problem status: optimal\n",
      "(CVXPY) Nov 27 02:31:13 AM: Optimal value: 1.290e-02\n",
      "(CVXPY) Nov 27 02:31:13 AM: Compilation took 1.956e-01 seconds\n",
      "(CVXPY) Nov 27 02:31:13 AM: Solver (including time spent in interface) took 6.748e+00 seconds\n",
      "\n",
      "The optimal value is 0.01289827511309086\n"
     ]
    }
   ],
   "source": [
    "# Import packages.\n",
    "import cvxpy as cp\n",
    "import numpy as np\n",
    "\n",
    "# Define and solve the CVXPY problem.\n",
    "sample_size = 10000\n",
    "\n",
    "mu = np.mean(sample,axis=0)\n",
    "w = cp.Variable(n)\n",
    "z = cp.Variable(sample_size)\n",
    "x = sample\n",
    "y = cp.Variable(n,boolean=True)\n",
    "obj = VaR + (1/(sample_size*(1-alpha)))*cp.sum(z)\n",
    "\n",
    "prob = cp.Problem(cp.Minimize(obj),\n",
    "                 [ \n",
    "                  z >= 0, \n",
    "                  z >= -x@w - VaR,\n",
    "                  w.T@mu >= 0,\n",
    "                  cp.sum(w) == 1,   # sum of weights = 1\n",
    "                   w >= 0.02*y,          #  (long-only, minumum weight enforced to avoid w =0.0000001)\n",
    "                   w <= 0.3*y         # avoid over-exposure to a single stock\n",
    "                 ])\n",
    "prob.solve(verbose=True,solver=cp.SCIPY,scipy_options={\"method\":\"highs\"})\n",
    "print(\"\\nThe optimal value is\", prob.value)"
   ]
  },
  {
   "cell_type": "code",
   "execution_count": 60,
   "id": "8b29d13a-9e9b-4191-9f71-faf299e4c3fd",
   "metadata": {},
   "outputs": [
    {
     "data": {
      "text/plain": [
       "(0.00021699819046305796, 0.055741815444244835)"
      ]
     },
     "execution_count": 60,
     "metadata": {},
     "output_type": "execute_result"
    }
   ],
   "source": [
    "expected_return = w.value.dot(mu)\n",
    "expected_return,(1+expected_return)**250-1"
   ]
  },
  {
   "cell_type": "markdown",
   "id": "43276906-5ccb-4cd3-8684-c0e049e7f1a1",
   "metadata": {},
   "source": [
    "# Loop "
   ]
  },
  {
   "cell_type": "code",
   "execution_count": 248,
   "id": "cbe55c7d-7dc1-4fbc-8818-b72066bd2c16",
   "metadata": {},
   "outputs": [
    {
     "data": {
      "text/plain": [
       "14"
      ]
     },
     "execution_count": 248,
     "metadata": {},
     "output_type": "execute_result"
    }
   ],
   "source": [
    "alpha = 0.1\n",
    "sample_size = 10000\n",
    "results = pd.DataFrame(None,columns=['portfolio','weights','CVaR','r'])\n",
    "\n",
    "variables = {r : RandomVariable(returns[r].dropna().values,laplace_asymmetric) for r in returns.columns}\n",
    "uniform = {r: var.unif() for r,var in variables.items()} \n",
    "len(uniform)"
   ]
  },
  {
   "cell_type": "code",
   "execution_count": 249,
   "id": "b50c286a-84cd-4a4b-9d4f-f43dd27ff638",
   "metadata": {},
   "outputs": [
    {
     "name": "stdout",
     "output_type": "stream",
     "text": [
      "\n",
      "\n",
      "14\n",
      "Vine Copula fitted\n",
      "Monte Carlo sample obtained\n",
      "Solution Obtained\n",
      "       CVaR         r\n",
      "0  0.013557  0.000293\n",
      "\n",
      "\n",
      "14\n",
      "Vine Copula fitted\n",
      "Monte Carlo sample obtained\n",
      "Solution Obtained\n",
      "       CVaR         r\n",
      "0  0.013557  0.000293\n",
      "1  0.013481  0.000144\n",
      "\n",
      "\n",
      "14\n",
      "Vine Copula fitted\n",
      "Monte Carlo sample obtained\n",
      "Solution Obtained\n",
      "       CVaR             r\n",
      "0  0.013557  2.926167e-04\n",
      "1  0.013481  1.436491e-04\n",
      "2  0.013516  4.946672e-19\n",
      "\n",
      "\n",
      "14\n",
      "Vine Copula fitted\n",
      "Monte Carlo sample obtained\n",
      "Solution Obtained\n",
      "       CVaR             r\n",
      "0  0.013557  2.926167e-04\n",
      "1  0.013481  1.436491e-04\n",
      "2  0.013516  4.946672e-19\n",
      "3  0.012775  2.575520e-04\n",
      "\n",
      "\n",
      "14\n",
      "Vine Copula fitted\n",
      "Monte Carlo sample obtained\n",
      "Solution Obtained\n",
      "       CVaR             r\n",
      "0  0.013557  2.926167e-04\n",
      "1  0.013481  1.436491e-04\n",
      "2  0.013516  4.946672e-19\n",
      "3  0.012775  2.575520e-04\n",
      "4  0.013461  2.217971e-04\n",
      "\n",
      "\n",
      "14\n",
      "Vine Copula fitted\n",
      "Monte Carlo sample obtained\n",
      "Solution Obtained\n",
      "       CVaR             r\n",
      "0  0.013557  2.926167e-04\n",
      "1  0.013481  1.436491e-04\n",
      "2  0.013516  4.946672e-19\n",
      "3  0.012775  2.575520e-04\n",
      "4  0.013461  2.217971e-04\n",
      "5  0.013707  2.707386e-04\n"
     ]
    }
   ],
   "source": [
    "## approx 250 trading days per year (review most recent 3 years only, every 6 months period) \n",
    "for p in range(125,875,125):\n",
    "    print(\"\\n\")\n",
    "    valid_cols = [r for r,u in uniform.items() if len(u) >= p]\n",
    "    sub_uniform = [u[-p:] for r,u in uniform.items() if r in valid_cols]\n",
    "    n=len(sub_uniform)\n",
    "\n",
    "    print(n)\n",
    "    data = pd.DataFrame(np.vstack(sub_uniform).T,columns=valid_cols)\n",
    "    cop = pv.Vinecop(data=data)\n",
    "    print(\"Vine Copula fitted\")\n",
    "\n",
    "    sample = cop.simulate(n=10000,num_threads = 100)\n",
    "    for i,r in enumerate(valid_cols):\n",
    "        sample[:,i] = variables[r].transform(sample[:,i])\n",
    "    print(\"Monte Carlo sample obtained\")\n",
    "\n",
    "    del sub_uniform, data, cop\n",
    "    gc.collect()\n",
    "\n",
    "    ### initialize portfolio weights\n",
    "    w = np.array([1/n for i in range(n)])\n",
    "    loss = sample.dot(w)\n",
    "    VaR = -np.quantile(loss,alpha)\n",
    "\n",
    "    mu = np.mean(sample,axis=0)\n",
    "    w = cp.Variable(n)\n",
    "    z = cp.Variable(sample_size)\n",
    "    x = sample\n",
    "    y = cp.Variable(n,boolean=True)\n",
    "    obj = VaR + (1/(sample_size*(1-alpha)))*cp.sum(z)\n",
    "\n",
    "    prob = cp.Problem(cp.Minimize(obj),\n",
    "                     [ \n",
    "                      z >= 0, \n",
    "                      z >= -x@w - VaR,\n",
    "                      w.T@mu >= 0,\n",
    "                      cp.sum(w) == 1,   # sum of weights = 1\n",
    "                       w >= 0,#.05*y,          #  (long-only, minumum weight enforced to avoid w =0.0000001)\n",
    "                       w <= 0.4*y,         # avoid over-exposure to a single stock\n",
    "                       cp.sum(y) <= 8,\n",
    "                         \n",
    "                     ])\n",
    "    prob.solve(solver=cp.SCIPY,scipy_options={\"method\":\"highs\"})\n",
    "    if prob.status == 'optimal' and prob.value != float(\"inf\"):\n",
    "        new_row = {'portfolio':valid_cols,'weights':w.value,'CVaR':prob.value,'r':w.value.dot(mu)}\n",
    "        results = results.append(new_row,ignore_index=True)\n",
    "        print(\"Solution Obtained\")\n",
    "        print(results.iloc[:,2:])\n",
    "    else:\n",
    "        print(\"No Solution\")\n",
    "\n"
   ]
  },
  {
   "cell_type": "code",
   "execution_count": 251,
   "id": "c84a1029-0bf8-4ce2-bcd5-97d94c90583b",
   "metadata": {},
   "outputs": [
    {
     "name": "stdout",
     "output_type": "stream",
     "text": [
      "0.13365943782829484 ABT\n",
      "-0.0 ANV\n",
      "-0.0 ASM\n",
      "0.2650012292616325 DBD\n",
      "0.04141153271020746 DHG\n",
      "-0.0 FPT\n",
      "-0.0 KDC\n",
      "0.15502909930651834 LIX\n",
      "-0.0 MIG\n",
      "0.0600365273621767 MSN\n",
      "0.15038592834338568 OPC\n",
      "0.11422308477932878 TRA\n",
      "-0.0 VHC\n",
      "0.0802531604084386 VNM\n"
     ]
    }
   ],
   "source": [
    "i = 5\n",
    "\n",
    "stocks = results.loc[i,['portfolio']].values[0]\n",
    "weights = results.loc[i,['weights']].values[0]\n",
    "allocation  = list(zip(stocks,weights))\n",
    "allocation = [(s,w) for (s,w) in allocation]# if w > 0 ]\n",
    "stocks = [s for (s,w) in allocation]\n",
    "weights = [w for (s,w) in allocation]\n",
    "\n",
    "for w,s in zip(weights,stocks):\n",
    "    print(w,s)"
   ]
  },
  {
   "cell_type": "code",
   "execution_count": 245,
   "id": "b021459b-e44b-41b7-823b-7d77e3df8ef4",
   "metadata": {},
   "outputs": [],
   "source": [
    "# tickers.loc[tickers['ticker'].isin(stocks)]\n",
    "\n",
    "# ## CANDIATES: ABT, DBD, LIX, OPC, TRA (VNM ? )"
   ]
  },
  {
   "cell_type": "markdown",
   "id": "44f68ff3-63ae-4051-bd05-9093e5568a53",
   "metadata": {},
   "source": [
    "### Double check Allocated Portfolio"
   ]
  },
  {
   "cell_type": "code",
   "execution_count": 246,
   "id": "b74bf4ef-e361-4996-8752-2a24e8815987",
   "metadata": {},
   "outputs": [
    {
     "data": {
      "text/html": [
       "<div>\n",
       "<style scoped>\n",
       "    .dataframe tbody tr th:only-of-type {\n",
       "        vertical-align: middle;\n",
       "    }\n",
       "\n",
       "    .dataframe tbody tr th {\n",
       "        vertical-align: top;\n",
       "    }\n",
       "\n",
       "    .dataframe thead th {\n",
       "        text-align: right;\n",
       "    }\n",
       "</style>\n",
       "<table border=\"1\" class=\"dataframe\">\n",
       "  <thead>\n",
       "    <tr style=\"text-align: right;\">\n",
       "      <th></th>\n",
       "      <th>ABT</th>\n",
       "      <th>ANV</th>\n",
       "      <th>ASM</th>\n",
       "      <th>DBD</th>\n",
       "      <th>DHG</th>\n",
       "      <th>FPT</th>\n",
       "      <th>KDC</th>\n",
       "      <th>LIX</th>\n",
       "      <th>MIG</th>\n",
       "      <th>MSN</th>\n",
       "      <th>OPC</th>\n",
       "      <th>TRA</th>\n",
       "      <th>VHC</th>\n",
       "      <th>VNM</th>\n",
       "    </tr>\n",
       "    <tr>\n",
       "      <th>date</th>\n",
       "      <th></th>\n",
       "      <th></th>\n",
       "      <th></th>\n",
       "      <th></th>\n",
       "      <th></th>\n",
       "      <th></th>\n",
       "      <th></th>\n",
       "      <th></th>\n",
       "      <th></th>\n",
       "      <th></th>\n",
       "      <th></th>\n",
       "      <th></th>\n",
       "      <th></th>\n",
       "      <th></th>\n",
       "    </tr>\n",
       "  </thead>\n",
       "  <tbody>\n",
       "    <tr>\n",
       "      <th>2023-11-20</th>\n",
       "      <td>0.0</td>\n",
       "      <td>0.003344</td>\n",
       "      <td>-0.005411</td>\n",
       "      <td>0.000000</td>\n",
       "      <td>-0.004803</td>\n",
       "      <td>-0.003297</td>\n",
       "      <td>0.001577</td>\n",
       "      <td>0.000000</td>\n",
       "      <td>0.000000</td>\n",
       "      <td>-0.007800</td>\n",
       "      <td>-0.006522</td>\n",
       "      <td>0.000000</td>\n",
       "      <td>-0.015471</td>\n",
       "      <td>-0.010000</td>\n",
       "    </tr>\n",
       "    <tr>\n",
       "      <th>2023-11-21</th>\n",
       "      <td>0.0</td>\n",
       "      <td>0.015000</td>\n",
       "      <td>0.007617</td>\n",
       "      <td>0.000000</td>\n",
       "      <td>0.015444</td>\n",
       "      <td>0.013230</td>\n",
       "      <td>-0.007874</td>\n",
       "      <td>0.020408</td>\n",
       "      <td>-0.002857</td>\n",
       "      <td>0.015723</td>\n",
       "      <td>0.002188</td>\n",
       "      <td>0.000000</td>\n",
       "      <td>0.014286</td>\n",
       "      <td>0.002886</td>\n",
       "    </tr>\n",
       "    <tr>\n",
       "      <th>2023-11-22</th>\n",
       "      <td>0.0</td>\n",
       "      <td>0.018062</td>\n",
       "      <td>0.003240</td>\n",
       "      <td>-0.003478</td>\n",
       "      <td>-0.006654</td>\n",
       "      <td>0.011970</td>\n",
       "      <td>0.001587</td>\n",
       "      <td>0.000000</td>\n",
       "      <td>0.002865</td>\n",
       "      <td>0.004644</td>\n",
       "      <td>-0.004367</td>\n",
       "      <td>0.000000</td>\n",
       "      <td>0.000000</td>\n",
       "      <td>-0.001439</td>\n",
       "    </tr>\n",
       "    <tr>\n",
       "      <th>2023-11-23</th>\n",
       "      <td>0.0</td>\n",
       "      <td>-0.032258</td>\n",
       "      <td>-0.004306</td>\n",
       "      <td>-0.010471</td>\n",
       "      <td>-0.014354</td>\n",
       "      <td>-0.023656</td>\n",
       "      <td>0.004754</td>\n",
       "      <td>0.000000</td>\n",
       "      <td>0.000000</td>\n",
       "      <td>-0.024653</td>\n",
       "      <td>0.004386</td>\n",
       "      <td>-0.005000</td>\n",
       "      <td>-0.021127</td>\n",
       "      <td>-0.010086</td>\n",
       "    </tr>\n",
       "    <tr>\n",
       "      <th>2023-11-24</th>\n",
       "      <td>0.0</td>\n",
       "      <td>0.000000</td>\n",
       "      <td>-0.009730</td>\n",
       "      <td>0.000000</td>\n",
       "      <td>-0.002913</td>\n",
       "      <td>0.004405</td>\n",
       "      <td>-0.006309</td>\n",
       "      <td>-0.010000</td>\n",
       "      <td>-0.005714</td>\n",
       "      <td>-0.023697</td>\n",
       "      <td>-0.004367</td>\n",
       "      <td>-0.007538</td>\n",
       "      <td>0.000000</td>\n",
       "      <td>-0.005822</td>\n",
       "    </tr>\n",
       "  </tbody>\n",
       "</table>\n",
       "</div>"
      ],
      "text/plain": [
       "            ABT       ANV       ASM       DBD       DHG       FPT       KDC  \\\n",
       "date                                                                          \n",
       "2023-11-20  0.0  0.003344 -0.005411  0.000000 -0.004803 -0.003297  0.001577   \n",
       "2023-11-21  0.0  0.015000  0.007617  0.000000  0.015444  0.013230 -0.007874   \n",
       "2023-11-22  0.0  0.018062  0.003240 -0.003478 -0.006654  0.011970  0.001587   \n",
       "2023-11-23  0.0 -0.032258 -0.004306 -0.010471 -0.014354 -0.023656  0.004754   \n",
       "2023-11-24  0.0  0.000000 -0.009730  0.000000 -0.002913  0.004405 -0.006309   \n",
       "\n",
       "                 LIX       MIG       MSN       OPC       TRA       VHC  \\\n",
       "date                                                                     \n",
       "2023-11-20  0.000000  0.000000 -0.007800 -0.006522  0.000000 -0.015471   \n",
       "2023-11-21  0.020408 -0.002857  0.015723  0.002188  0.000000  0.014286   \n",
       "2023-11-22  0.000000  0.002865  0.004644 -0.004367  0.000000  0.000000   \n",
       "2023-11-23  0.000000  0.000000 -0.024653  0.004386 -0.005000 -0.021127   \n",
       "2023-11-24 -0.010000 -0.005714 -0.023697 -0.004367 -0.007538  0.000000   \n",
       "\n",
       "                 VNM  \n",
       "date                  \n",
       "2023-11-20 -0.010000  \n",
       "2023-11-21  0.002886  \n",
       "2023-11-22 -0.001439  \n",
       "2023-11-23 -0.010086  \n",
       "2023-11-24 -0.005822  "
      ]
     },
     "execution_count": 246,
     "metadata": {},
     "output_type": "execute_result"
    }
   ],
   "source": [
    "allocation_daily = daily_returns.loc[:,stocks]\n",
    "# allocation_weights = np.repeat(1/len(stocks), len(stocks))\n",
    "allocation_weights = weights.copy()\n",
    "allocation_daily.tail()"
   ]
  },
  {
   "cell_type": "code",
   "execution_count": 247,
   "id": "cd37c741-2631-4dc0-a492-1d5e47712586",
   "metadata": {},
   "outputs": [
    {
     "data": {
      "text/plain": [
       "array([0.00018735, 0.00027501, 0.01084186, 0.01113271])"
      ]
     },
     "execution_count": 247,
     "metadata": {},
     "output_type": "execute_result"
    }
   ],
   "source": [
    "loss = allocation_daily.dot(allocation_weights).dropna()\n",
    "VaR = -np.quantile(loss,alpha)\n",
    "mean = np.mean(loss)\n",
    "median = np.median(loss)\n",
    "CVaR = loss[loss > VaR].sum()*(1/(sample_size*(1-alpha))) + VaR\n",
    "\n",
    "cv = np.array([mean,median, VaR, CVaR])\n",
    "cv"
   ]
  },
  {
   "cell_type": "code",
   "execution_count": null,
   "id": "e975b067-abe2-4da6-b393-44a55e7d1ba1",
   "metadata": {},
   "outputs": [],
   "source": [
    "## CVAR, restricited weights, max 5 stocks \n",
    "array([0.00018735, 0.00027501, 0.01084186, 0.01113271]) ## mean return >= 0\n",
    "array([0.00019523, 0.0002707 , 0.01074209, 0.0110234 ]) ## mean return >= 0.00015\n",
    "array([0.00019456, 0.00034095, 0.01067915, 0.01097426]) ## mean return >= 0.0002\n",
    "array([0.00019622, 0.00037825, 0.01081129, 0.01110465]) ## mean return >= 0.00025\n",
    "array([0.00019907, 0.00028063, 0.01118421, 0.01150606]) ## mean return >= 0.0003"
   ]
  },
  {
   "cell_type": "code",
   "execution_count": 176,
   "id": "a0346d6f-139d-4ed9-9bb7-1c972aad792e",
   "metadata": {},
   "outputs": [
    {
     "data": {
      "text/plain": [
       "array([0.00028118, 0.00113856, 0.01152144, 0.01179259])"
      ]
     },
     "execution_count": 176,
     "metadata": {},
     "output_type": "execute_result"
    }
   ],
   "source": [
    "## CVAR portfolio uniform weights\n",
    "uw = np.array([0.00028118, 0.00113856, 0.01152144, 0.01179259])\n",
    "uw"
   ]
  },
  {
   "cell_type": "code",
   "execution_count": 169,
   "id": "ca72eaf5-e1d7-4055-84fd-9a57ebfd3b37",
   "metadata": {},
   "outputs": [
    {
     "data": {
      "text/plain": [
       "array([0.00020911, 0.00081885, 0.01213756, 0.0140258 ])"
      ]
     },
     "execution_count": 169,
     "metadata": {},
     "output_type": "execute_result"
    }
   ],
   "source": [
    "## MEAN VARIANCE PORTFOLIO\n",
    "mv = np.array([0.00020911294006738845,\n",
    " 0.0008188473260155489,\n",
    " 0.012137556764210567,\n",
    " 0.014025799264138772])\n",
    "mv"
   ]
  },
  {
   "cell_type": "code",
   "execution_count": 177,
   "id": "3e0ed0a8-af7b-40d7-9b58-8a2b9ca0e93b",
   "metadata": {},
   "outputs": [
    {
     "data": {
      "text/plain": [
       "array([1.34463224, 1.39044235, 0.94923882, 0.84077847])"
      ]
     },
     "execution_count": 177,
     "metadata": {},
     "output_type": "execute_result"
    }
   ],
   "source": [
    "uw/mv"
   ]
  },
  {
   "cell_type": "code",
   "execution_count": null,
   "id": "9461a83f-56da-4fa3-9209-98ceeaff4d3e",
   "metadata": {},
   "outputs": [],
   "source": []
  }
 ],
 "metadata": {
  "kernelspec": {
   "display_name": "Python 3 (ipykernel)",
   "language": "python",
   "name": "python3"
  },
  "language_info": {
   "codemirror_mode": {
    "name": "ipython",
    "version": 3
   },
   "file_extension": ".py",
   "mimetype": "text/x-python",
   "name": "python",
   "nbconvert_exporter": "python",
   "pygments_lexer": "ipython3",
   "version": "3.8.18"
  }
 },
 "nbformat": 4,
 "nbformat_minor": 5
}
